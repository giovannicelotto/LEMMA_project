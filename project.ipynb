{
 "cells": [
  {
   "cell_type": "code",
   "execution_count": 2,
   "metadata": {},
   "outputs": [],
   "source": [
    "### Libraries ###\n",
    "%matplotlib inline\n",
    "import numpy as np \n",
    "import matplotlib.pyplot as plt \n",
    "import pandas as pd\n",
    "from scipy.interpolate import interp1d"
   ]
  },
  {
   "cell_type": "markdown",
   "metadata": {},
   "source": [
    "1. Write a Monte Carlo simulation that generates scattering events following the distributions found analytically; \n",
    "2. Produce a synthetic dataset of about $N=10^5$ (or more) events. Events should be expressed as rows in a file with columns representing the muons coordinates;\n",
    "3. Assume a $3$ cm thick Beryllium block is used as a target, and the rate of positrons on the target is $10^6$ Hz. Compute a rescaling factor (weight) you need to apply to each one of the $N$ simulated events such that they represent the statistics that would be gathered in a week of countinuous operations."
   ]
  },
  {
   "cell_type": "code",
   "execution_count": 4,
   "metadata": {},
   "outputs": [],
   "source": [
    "## Constants ##\n",
    "\n",
    "alpha  = 1 / (137.035999084) #  Fine-Structure constant\n",
    "m_muon = 105.6583755       # [MeV] Muon mass\n",
    "m_e    = 0.51099895        # [MeV] Electron mass\n",
    "sqr_s      = 225.          # [MeV] Invariant mass  "
   ]
  },
  {
   "cell_type": "markdown",
   "metadata": {},
   "source": [
    "The first simulation of the scattering process is based on a monochromatic positron beam, i.e. it has the following characteristics:\n",
    "- we assume its transversal section to be point-like;\n",
    "- all the beam particles have the same energy.\n",
    "\n",
    "In order to sample $\\theta$ distributed according to the differential cross section, we will use the inverse transform method. \n",
    "Since we know the analytic form of CDF of the angular distribution in the CoM frame $g(\\theta^*)$, this approach can be applied and \n",
    "leads to better performances. The distribution $h(\\varphi^*)$ is infact uniform in the interval [0,$2\\pi$]. Namely we have:\n",
    "\n",
    "$$\n",
    "g(\\theta^*) = \\frac{2\\pi \\sin(\\theta^*)}{\\sigma^*} \\cdot \\frac{\\mathrm{d}\\sigma^*}{\\mathrm{d}\\Omega^*} \\quad \\quad \\text{and} \\quad \\quad h(\\varphi^*) = \\frac{1}{2\\pi}\n",
    "\n",
    "$$\n",
    "\n",
    "The CDF is computed through the following: \n",
    "\n",
    "\\begin{align}\n",
    "\\text{CDF}[ g(\\theta^*)]=  \\int_0^{\\theta^*} g(\\theta^*)  \\mathrm{d}\\theta^*  \n",
    "= \\int_0^{\\theta^*} \\frac{2\\pi \\sin(\\theta^*)}{\\sigma} \\cdot \\frac{\\alpha^2}{4s} \\left(1- \\frac{4 m_\\mu^2}{s}\\right)^{1/2} \\left(1- \\frac{4 m_e^2}{s}\\right)^{-1/2}\\left[ 1+ \\frac{4}{s} (m_e^2 + m_\\mu^2) + \\left(1-\\frac{4 m_e^2}{s}\\right)\\left(1-\\frac{4 m_\\mu^2}{s}\\right)\\cos^2\\theta^*\\right]  \\\\ = \n",
    "\\frac{2\\pi}{\\sigma} \\frac{\\alpha^2}{4s} \\left(1- \\frac{4 m_\\mu^2}{s}\\right)^{1/2} \\left(1- \\frac{4 m_e^2}{s}\\right)^{-1/2}\n",
    "    \\cdot \\left\\{\\left[1+ \\frac{4}{s} (m_e^2 + m_\\mu^2)\\right] (1 - \\cos\\theta^*) + \\frac{1}{3}\\left(1-\\frac{4 m_e^2}{s}\\right)\\left(1-\\frac{4 m_\\mu^2}{s}\\right)(1 - \\cos^3\\theta^*)\\right\\} \\tag{0.1}\n",
    "\\end{align}\n",
    "\n",
    "\n",
    "The inverse of the CDF is computed by interpolation through scipy function interp1d.\n"
   ]
  },
  {
   "cell_type": "markdown",
   "metadata": {},
   "source": []
  }
 ],
 "metadata": {
  "interpreter": {
   "hash": "aee8b7b246df8f9039afb4144a1f6fd8d2ca17a180786b69acc140d282b71a49"
  },
  "kernelspec": {
   "display_name": "Python 3.9.10 64-bit",
   "language": "python",
   "name": "python3"
  },
  "language_info": {
   "codemirror_mode": {
    "name": "ipython",
    "version": 3
   },
   "file_extension": ".py",
   "mimetype": "text/x-python",
   "name": "python",
   "nbconvert_exporter": "python",
   "pygments_lexer": "ipython3",
   "version": "3.9.10"
  },
  "orig_nbformat": 4
 },
 "nbformat": 4,
 "nbformat_minor": 2
}
